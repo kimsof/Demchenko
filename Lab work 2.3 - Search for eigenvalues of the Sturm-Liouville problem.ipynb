{
 "cells": [
  {
   "cell_type": "code",
   "execution_count": 284,
   "metadata": {},
   "outputs": [],
   "source": [
    "import numpy as np\n",
    "from numpy import linalg\n",
    "import pandas as ps\n",
    "import time\n",
    "\n",
    "pi = np.pi\n",
    "l1 = (13.4923571465048 + 1)/4\n",
    "l2 = (92.769348921422 + 1)/4\n",
    "l3 = (250.71889284 + 1)/4\n",
    "l4 = (487.5996922776 + 1)/4"
   ]
  },
  {
   "cell_type": "code",
   "execution_count": 270,
   "metadata": {},
   "outputs": [],
   "source": [
    "def model_function(l, N):\n",
    "    L = N - 1\n",
    "    h = 1/L\n",
    "    b_l = l*h**2 + h - 2\n",
    "    matrix = np.eye(N,N)*b_l\n",
    "    \n",
    "    # элементы трехдиагонали (l принадлежит [1, L-1])\n",
    "    for i in range(1, L):\n",
    "        matrix[i - 1][i] = 1 - h  # c_l\n",
    "        matrix[i + 1][i] = 1      # a_l\n",
    "    matrix[1][0] = 1              # a_l, l = 1\n",
    "    matrix[L-1][L] = 1 - h           # c_l, l = L-1\n",
    "\n",
    "    # оставшиеся элементы\n",
    "    matrix[0][0] = 1          # b_0\n",
    "    matrix[0][1] = 0          # c_0\n",
    "    matrix[L][L] = -1         # b_L\n",
    "\n",
    "    return np.linalg.det(matrix)\n",
    "\n",
    "def alternate_function(l, N):\n",
    "    L = N - 1\n",
    "    h = 1/L\n",
    "    x = np.linspace(0, 1, N)\n",
    "    matrix = np.zeros((N,N))\n",
    "\n",
    "    # элементы трехдиагонали (l принадлежит [1, L-1])\n",
    "    for i in range(1, L):\n",
    "        matrix[i][i] = 2*x[i]*h + l*h**2 - 2      # b_l\n",
    "        matrix[i - 1][i] = 1 - 2*x[i]*h           # c_l\n",
    "        matrix[i + 1][i] = 1                      # a_l\n",
    "    matrix[1][0] = 1                              # a_l, l = 1\n",
    "    matrix[L-1][L] = 1 - 2*x[L]*h                 # c_l, l = L-1\n",
    "\n",
    "    # оставшиеся элементы\n",
    "    matrix[0][0] = 1          # b_0\n",
    "    matrix[0][1] = 0          # c_0\n",
    "    matrix[L][L] = -1         # b_L\n",
    "\n",
    "    return np.linalg.det(matrix)\n",
    "\n",
    "\n",
    "def average(x, y):\n",
    "    return (x+y)/2\n",
    "\n",
    "\n",
    "def model_fun(w, q, N):\n",
    "    if model_function(w, N) < 0:\n",
    "        neg = w\n",
    "        pos = q\n",
    "    else:\n",
    "        pos = w\n",
    "        neg = q\n",
    "    l = average(neg, pos) \n",
    "    i = 0\n",
    "    while i < 60:\n",
    "        if model_function(l, N) < 0:\n",
    "            neg = l\n",
    "        else:\n",
    "            pos = l\n",
    "        #print(i, neg, pos)\n",
    "        l = average(neg, pos)\n",
    "        i += 1\n",
    "    return l\n",
    "\n",
    "\n",
    "def alternate_fun(w, q, N):\n",
    "    if model_function(w, N) < 0:\n",
    "        neg = w\n",
    "        pos = q\n",
    "    else:\n",
    "        pos = w\n",
    "        neg = q\n",
    "    l = average(neg, pos) \n",
    "    i = 0\n",
    "    while i < 20:\n",
    "        if alternate_function(l, N) < 0:\n",
    "            neg = l\n",
    "        else:\n",
    "            pos = l\n",
    "        #print(i, neg, pos)\n",
    "        l = average(neg, pos)\n",
    "        i += 1\n",
    "    return l\n",
    "\n",
    "def output(pos, neg):\n",
    "    array1 = [161, 321, 641, 1281, 2561, 5121]\n",
    "    array = np.zeros((2, len(array1)))\n",
    "    for i in range(len(array1)):\n",
    "        array[0][i] = model_fun(pos, neg, array1[i])\n",
    "        array[1][i] = alternate_fun(pos, neg, array1[i])\n",
    "    return ps.DataFrame(array, ['model', 'alternating'], array1)   \n",
    "\n",
    "    "
   ]
  },
  {
   "cell_type": "code",
   "execution_count": 260,
   "metadata": {},
   "outputs": [
    {
     "data": {
      "text/plain": [
       "3.6230892866262"
      ]
     },
     "execution_count": 260,
     "metadata": {},
     "output_type": "execute_result"
    }
   ],
   "source": [
    "l1"
   ]
  },
  {
   "cell_type": "code",
   "execution_count": 273,
   "metadata": {
    "collapsed": true
   },
   "outputs": [
    {
     "data": {
      "text/plain": [
       "(0.675639689038701, -0.603716976, 1.365841428245257, -0.4850204232758069)"
      ]
     },
     "execution_count": 273,
     "metadata": {},
     "output_type": "execute_result"
    }
   ],
   "source": [
    "model_function(1, 11), model_function(10, 11), alternate_function(1, 11), alternate_function(10, 11)"
   ]
  },
  {
   "cell_type": "code",
   "execution_count": 272,
   "metadata": {
    "collapsed": true
   },
   "outputs": [
    {
     "data": {
      "text/plain": [
       "(3.7959383661020087, 5.913382053375244)"
      ]
     },
     "execution_count": 272,
     "metadata": {},
     "output_type": "execute_result"
    }
   ],
   "source": [
    "model_fun(1, 10, 11), alternate_fun(1, 10, 11)"
   ]
  },
  {
   "cell_type": "markdown",
   "metadata": {},
   "source": [
    "#### $ \\lambda_{1} \\approx 3.6230892866262 $"
   ]
  },
  {
   "cell_type": "code",
   "execution_count": 288,
   "metadata": {},
   "outputs": [
    {
     "data": {
      "text/html": [
       "<div>\n",
       "<style scoped>\n",
       "    .dataframe tbody tr th:only-of-type {\n",
       "        vertical-align: middle;\n",
       "    }\n",
       "\n",
       "    .dataframe tbody tr th {\n",
       "        vertical-align: top;\n",
       "    }\n",
       "\n",
       "    .dataframe thead th {\n",
       "        text-align: right;\n",
       "    }\n",
       "</style>\n",
       "<table border=\"1\" class=\"dataframe\">\n",
       "  <thead>\n",
       "    <tr style=\"text-align: right;\">\n",
       "      <th></th>\n",
       "      <th>161</th>\n",
       "      <th>321</th>\n",
       "      <th>641</th>\n",
       "      <th>1281</th>\n",
       "      <th>2561</th>\n",
       "      <th>5121</th>\n",
       "    </tr>\n",
       "  </thead>\n",
       "  <tbody>\n",
       "    <tr>\n",
       "      <th>model</th>\n",
       "      <td>3.634386</td>\n",
       "      <td>3.628744</td>\n",
       "      <td>3.625918</td>\n",
       "      <td>3.624504</td>\n",
       "      <td>3.623797</td>\n",
       "      <td>3.623443</td>\n",
       "    </tr>\n",
       "    <tr>\n",
       "      <th>alternating</th>\n",
       "      <td>5.617592</td>\n",
       "      <td>5.607267</td>\n",
       "      <td>5.602100</td>\n",
       "      <td>5.599508</td>\n",
       "      <td>5.598212</td>\n",
       "      <td>5.597568</td>\n",
       "    </tr>\n",
       "  </tbody>\n",
       "</table>\n",
       "</div>"
      ],
      "text/plain": [
       "                 161       321       641       1281      2561      5121\n",
       "model        3.634386  3.628744  3.625918  3.624504  3.623797  3.623443\n",
       "alternating  5.617592  5.607267  5.602100  5.599508  5.598212  5.597568"
      ]
     },
     "execution_count": 288,
     "metadata": {},
     "output_type": "execute_result"
    }
   ],
   "source": [
    "output(1, 10)"
   ]
  },
  {
   "cell_type": "code",
   "execution_count": 274,
   "metadata": {},
   "outputs": [
    {
     "data": {
      "text/plain": [
       "23.4423372303555"
      ]
     },
     "execution_count": 274,
     "metadata": {},
     "output_type": "execute_result"
    }
   ],
   "source": [
    "l2"
   ]
  },
  {
   "cell_type": "code",
   "execution_count": 275,
   "metadata": {
    "collapsed": true
   },
   "outputs": [
    {
     "data": {
      "text/plain": [
       "(-0.27419660199999935, 0.352009072, -0.3866365253766349, 0.2262626896026011)"
      ]
     },
     "execution_count": 275,
     "metadata": {},
     "output_type": "execute_result"
    }
   ],
   "source": [
    "model_function(20, 11), model_function(30, 11), alternate_function(20, 11), alternate_function(30, 11)"
   ]
  },
  {
   "cell_type": "code",
   "execution_count": 276,
   "metadata": {
    "collapsed": true
   },
   "outputs": [
    {
     "data": {
      "text/plain": [
       "(24.104562612483235, 26.21168613433838)"
      ]
     },
     "execution_count": 276,
     "metadata": {},
     "output_type": "execute_result"
    }
   ],
   "source": [
    "model_fun(20, 30, 11), alternate_fun(20, 30, 11)"
   ]
  },
  {
   "cell_type": "markdown",
   "metadata": {},
   "source": [
    "#### $ \\lambda_{2} \\approx 23.4423372303555 $"
   ]
  },
  {
   "cell_type": "code",
   "execution_count": 292,
   "metadata": {},
   "outputs": [
    {
     "data": {
      "text/html": [
       "<div>\n",
       "<style scoped>\n",
       "    .dataframe tbody tr th:only-of-type {\n",
       "        vertical-align: middle;\n",
       "    }\n",
       "\n",
       "    .dataframe tbody tr th {\n",
       "        vertical-align: top;\n",
       "    }\n",
       "\n",
       "    .dataframe thead th {\n",
       "        text-align: right;\n",
       "    }\n",
       "</style>\n",
       "<table border=\"1\" class=\"dataframe\">\n",
       "  <thead>\n",
       "    <tr style=\"text-align: right;\">\n",
       "      <th></th>\n",
       "      <th>161</th>\n",
       "      <th>321</th>\n",
       "      <th>641</th>\n",
       "      <th>1281</th>\n",
       "      <th>2561</th>\n",
       "      <th>5121</th>\n",
       "    </tr>\n",
       "  </thead>\n",
       "  <tbody>\n",
       "    <tr>\n",
       "      <th>model</th>\n",
       "      <td>23.513872</td>\n",
       "      <td>23.478537</td>\n",
       "      <td>23.460545</td>\n",
       "      <td>23.451468</td>\n",
       "      <td>23.446909</td>\n",
       "      <td>23.444625</td>\n",
       "    </tr>\n",
       "    <tr>\n",
       "      <th>alternating</th>\n",
       "      <td>25.599856</td>\n",
       "      <td>25.559306</td>\n",
       "      <td>25.538611</td>\n",
       "      <td>25.528169</td>\n",
       "      <td>25.522914</td>\n",
       "      <td>25.520291</td>\n",
       "    </tr>\n",
       "  </tbody>\n",
       "</table>\n",
       "</div>"
      ],
      "text/plain": [
       "                  161        321        641        1281       2561       5121\n",
       "model        23.513872  23.478537  23.460545  23.451468  23.446909  23.444625\n",
       "alternating  25.599856  25.559306  25.538611  25.528169  25.522914  25.520291"
      ]
     },
     "execution_count": 292,
     "metadata": {},
     "output_type": "execute_result"
    }
   ],
   "source": [
    "output(20, 30)"
   ]
  },
  {
   "cell_type": "code",
   "execution_count": 277,
   "metadata": {},
   "outputs": [
    {
     "data": {
      "text/plain": [
       "62.92972321"
      ]
     },
     "execution_count": 277,
     "metadata": {},
     "output_type": "execute_result"
    }
   ],
   "source": [
    "l3"
   ]
  },
  {
   "cell_type": "code",
   "execution_count": 278,
   "metadata": {
    "collapsed": true
   },
   "outputs": [
    {
     "data": {
      "text/plain": [
       "(0.10747347399999883,\n",
       " -0.3272101920000011,\n",
       " 0.18015526739509188,\n",
       " -0.24058353777901656)"
      ]
     },
     "execution_count": 278,
     "metadata": {},
     "output_type": "execute_result"
    }
   ],
   "source": [
    "model_function(60, 11), model_function(70, 11), alternate_function(60, 11), alternate_function(70, 11)"
   ]
  },
  {
   "cell_type": "code",
   "execution_count": 279,
   "metadata": {},
   "outputs": [
    {
     "data": {
      "text/plain": [
       "(62.371053312833325, 64.21123027801514)"
      ]
     },
     "execution_count": 279,
     "metadata": {},
     "output_type": "execute_result"
    }
   ],
   "source": [
    "model_fun(60, 70, 11), alternate_fun(60, 70, 11)"
   ]
  },
  {
   "cell_type": "markdown",
   "metadata": {},
   "source": [
    "#### $ \\lambda_{3} \\approx 62.92972321$"
   ]
  },
  {
   "cell_type": "code",
   "execution_count": 289,
   "metadata": {},
   "outputs": [
    {
     "data": {
      "text/html": [
       "<div>\n",
       "<style scoped>\n",
       "    .dataframe tbody tr th:only-of-type {\n",
       "        vertical-align: middle;\n",
       "    }\n",
       "\n",
       "    .dataframe tbody tr th {\n",
       "        vertical-align: top;\n",
       "    }\n",
       "\n",
       "    .dataframe thead th {\n",
       "        text-align: right;\n",
       "    }\n",
       "</style>\n",
       "<table border=\"1\" class=\"dataframe\">\n",
       "  <thead>\n",
       "    <tr style=\"text-align: right;\">\n",
       "      <th></th>\n",
       "      <th>161</th>\n",
       "      <th>321</th>\n",
       "      <th>641</th>\n",
       "      <th>1281</th>\n",
       "      <th>2561</th>\n",
       "      <th>5121</th>\n",
       "    </tr>\n",
       "  </thead>\n",
       "  <tbody>\n",
       "    <tr>\n",
       "      <th>model</th>\n",
       "      <td>63.113577</td>\n",
       "      <td>63.024866</td>\n",
       "      <td>62.978093</td>\n",
       "      <td>62.954107</td>\n",
       "      <td>62.941965</td>\n",
       "      <td>62.935856</td>\n",
       "    </tr>\n",
       "    <tr>\n",
       "      <th>alternating</th>\n",
       "      <td>65.204291</td>\n",
       "      <td>65.110974</td>\n",
       "      <td>65.061631</td>\n",
       "      <td>65.036292</td>\n",
       "      <td>65.023456</td>\n",
       "      <td>65.016999</td>\n",
       "    </tr>\n",
       "  </tbody>\n",
       "</table>\n",
       "</div>"
      ],
      "text/plain": [
       "                  161        321        641        1281       2561       5121\n",
       "model        63.113577  63.024866  62.978093  62.954107  62.941965  62.935856\n",
       "alternating  65.204291  65.110974  65.061631  65.036292  65.023456  65.016999"
      ]
     },
     "execution_count": 289,
     "metadata": {},
     "output_type": "execute_result"
    }
   ],
   "source": [
    "output(60, 70)"
   ]
  },
  {
   "cell_type": "code",
   "execution_count": 286,
   "metadata": {},
   "outputs": [
    {
     "data": {
      "text/plain": [
       "122.1499230694"
      ]
     },
     "execution_count": 286,
     "metadata": {},
     "output_type": "execute_result"
    }
   ],
   "source": [
    "l4"
   ]
  },
  {
   "cell_type": "code",
   "execution_count": 282,
   "metadata": {
    "collapsed": true
   },
   "outputs": [
    {
     "data": {
      "text/plain": [
       "(-0.17751937599999834,\n",
       " 0.5539583520000011,\n",
       " -0.22095489214840708,\n",
       " 0.48499275138728004)"
      ]
     },
     "execution_count": 282,
     "metadata": {},
     "output_type": "execute_result"
    }
   ],
   "source": [
    "model_function(110, 11), model_function(130, 11), alternate_function(110, 11), alternate_function(130, 11)"
   ]
  },
  {
   "cell_type": "code",
   "execution_count": 287,
   "metadata": {
    "collapsed": true
   },
   "outputs": [
    {
     "data": {
      "text/plain": [
       "(114.51777103356636, 115.9792947769165)"
      ]
     },
     "execution_count": 287,
     "metadata": {},
     "output_type": "execute_result"
    }
   ],
   "source": [
    "model_fun(110, 140, 11), alternate_fun(110, 140, 11)"
   ]
  },
  {
   "cell_type": "markdown",
   "metadata": {},
   "source": [
    "#### $ \\lambda_{4} \\approx 122.1499230694$"
   ]
  },
  {
   "cell_type": "code",
   "execution_count": 290,
   "metadata": {},
   "outputs": [
    {
     "data": {
      "text/html": [
       "<div>\n",
       "<style scoped>\n",
       "    .dataframe tbody tr th:only-of-type {\n",
       "        vertical-align: middle;\n",
       "    }\n",
       "\n",
       "    .dataframe tbody tr th {\n",
       "        vertical-align: top;\n",
       "    }\n",
       "\n",
       "    .dataframe thead th {\n",
       "        text-align: right;\n",
       "    }\n",
       "</style>\n",
       "<table border=\"1\" class=\"dataframe\">\n",
       "  <thead>\n",
       "    <tr style=\"text-align: right;\">\n",
       "      <th></th>\n",
       "      <th>161</th>\n",
       "      <th>321</th>\n",
       "      <th>641</th>\n",
       "      <th>1281</th>\n",
       "      <th>2561</th>\n",
       "      <th>5121</th>\n",
       "    </tr>\n",
       "  </thead>\n",
       "  <tbody>\n",
       "    <tr>\n",
       "      <th>model</th>\n",
       "      <td>122.483023</td>\n",
       "      <td>122.328684</td>\n",
       "      <td>122.242335</td>\n",
       "      <td>122.196884</td>\n",
       "      <td>122.173592</td>\n",
       "      <td>122.161805</td>\n",
       "    </tr>\n",
       "    <tr>\n",
       "      <th>alternating</th>\n",
       "      <td>124.573679</td>\n",
       "      <td>124.415770</td>\n",
       "      <td>124.327097</td>\n",
       "      <td>124.280348</td>\n",
       "      <td>124.256372</td>\n",
       "      <td>124.244242</td>\n",
       "    </tr>\n",
       "  </tbody>\n",
       "</table>\n",
       "</div>"
      ],
      "text/plain": [
       "                   161         321         641         1281        2561  \\\n",
       "model        122.483023  122.328684  122.242335  122.196884  122.173592   \n",
       "alternating  124.573679  124.415770  124.327097  124.280348  124.256372   \n",
       "\n",
       "                   5121  \n",
       "model        122.161805  \n",
       "alternating  124.244242  "
      ]
     },
     "execution_count": 290,
     "metadata": {},
     "output_type": "execute_result"
    }
   ],
   "source": [
    "output(110, 130)"
   ]
  },
  {
   "cell_type": "markdown",
   "metadata": {},
   "source": [
    "### Модельная задача:\n",
    "\n",
    "#### $ \\left\\{\\begin{matrix}\n",
    "y'' - y' + \\lambda y = 0 \\\\ \n",
    "y(0) = y'(1) = 0\n",
    "\\end{matrix}\\right. $\n",
    "\n",
    "\n",
    "#### Разностная схема:\n",
    "$ \\left\\{\\begin{matrix}\n",
    "y_{0} = 0\n",
    "\\\\\n",
    "\\frac{y_{l+1} - 2y_{l} + y_{l-1}}{h^{2}} + \\frac{y_{l} - y_{l-1}}{h} + \\lambda y_{l} = 0\n",
    "\\\\ \n",
    "\\frac{y_{L} - y_{L-1}}{h} = 0\n",
    "\\end{matrix}\\right. $\n",
    "\n",
    "#### Аппроксимация:\n",
    "$ y_{i\\pm 1} = [y]_{i} \\pm h[y']_{i} + \\frac{h^{2}}{2}[y'']_{i} \\pm \\frac{h^{3}}{6}[y''']_{i} + \\frac{h^{4}}{24}[y^{IV}]_{i} + O(h^{5}) $ \n",
    "\n",
    "#### Невязка: \n",
    "\n",
    "$ r_{h} = [y'']_{i} +  \\frac{h^{2}}{12}[y^{IV}]_{i} + O(h^{3}) - ([y']_{i} + \\frac{h}{2}[y'']_{i} + O(h^{2})) + \\lambda [y]_{i} = -\\frac{h}{2}[y'']_{i} + O(h^{2}) \\Rightarrow $ аппроксимация разностной схемы первого порядка "
   ]
  },
  {
   "cell_type": "markdown",
   "metadata": {},
   "source": [
    "### Задача с переменными коэффициентами:\n",
    "\n",
    "#### $ \\left\\{\\begin{matrix}\n",
    "y'' - 2xy' + \\lambda y = 0 \\\\ \n",
    "y(0) = y'(1) = 0\n",
    "\\end{matrix}\\right. $\n",
    "\n",
    "#### Разностная схема:\n",
    "#### $  \\left\\{\\begin{matrix}\n",
    "y_{0} = 0\n",
    "\\\\\n",
    "\\frac{y_{l+1} - 2y_{l} + y_{l-1}}{h^{2}} + 2x_{l} \\frac{y_{l+1} - y_{l}}{h} +  \\lambda y_{l} = 0\n",
    "\\\\ \n",
    "\\frac{y_{L} - y_{L-1}}{h} = 0\n",
    "\\end{matrix}\\right. $\n",
    "\n",
    "#### Аппроксимация:\n",
    "#### $ y_{i\\pm 1} = [y]_{i} \\pm h[y']_{i} + \\frac{h^{2}}{2}[y'']_{i} \\pm \\frac{h^{3}}{6}[y''']_{i} + \\frac{h^{4}}{24}[y^{IV}]_{i} + O(h^{5}) $ \n",
    "\n",
    "#### Невязка: \n",
    "$ r_{h} = [y'']_{i} +  \\frac{h^{2}}{12}[y^{IV}]_{i} + O(h^{3}) - 2x_{l}([y']_{i} + \\frac{h}{2}[y'']_{i} + O(h^{2})) + \\lambda [y]_{i} = -2x_{l}\\frac{h}{2}[y'']_{i} + \\frac{h^{2}}{12}[y^{IV}]_{i} + O(h^{2}) \\Rightarrow $ аппроксимация разностной схемы первого порядка "
   ]
  },
  {
   "cell_type": "code",
   "execution_count": null,
   "metadata": {},
   "outputs": [],
   "source": []
  }
 ],
 "metadata": {
  "kernelspec": {
   "display_name": "Python 3",
   "language": "python",
   "name": "python3"
  },
  "language_info": {
   "codemirror_mode": {
    "name": "ipython",
    "version": 3
   },
   "file_extension": ".py",
   "mimetype": "text/x-python",
   "name": "python",
   "nbconvert_exporter": "python",
   "pygments_lexer": "ipython3",
   "version": "3.8.3"
  }
 },
 "nbformat": 4,
 "nbformat_minor": 4
}
