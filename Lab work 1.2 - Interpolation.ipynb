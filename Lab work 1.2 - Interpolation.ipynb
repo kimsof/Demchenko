{
 "cells": [
  {
   "cell_type": "markdown",
   "metadata": {},
   "source": [
    "Алгебраический многочлен"
   ]
  },
  {
   "cell_type": "code",
   "execution_count": 462,
   "metadata": {},
   "outputs": [],
   "source": [
    "import numpy as np\n",
    "import pandas as ps\n",
    "from scipy import linalg\n",
    "x = np.array([0.87267, 1.22173, 1.57080, 1.91986, 2.26893, 2.61799, 2.96706])\n",
    "f = np.array([0.00123, 0.01343, 0.08411, 0.37341, 1.31146, 3.88447, 10.10742])"
   ]
  },
  {
   "cell_type": "code",
   "execution_count": 463,
   "metadata": {},
   "outputs": [
    {
     "data": {
      "text/html": [
       "<div>\n",
       "<style scoped>\n",
       "    .dataframe tbody tr th:only-of-type {\n",
       "        vertical-align: middle;\n",
       "    }\n",
       "\n",
       "    .dataframe tbody tr th {\n",
       "        vertical-align: top;\n",
       "    }\n",
       "\n",
       "    .dataframe thead th {\n",
       "        text-align: right;\n",
       "    }\n",
       "</style>\n",
       "<table border=\"1\" class=\"dataframe\">\n",
       "  <thead>\n",
       "    <tr style=\"text-align: right;\">\n",
       "      <th></th>\n",
       "      <th>a0</th>\n",
       "      <th>a1</th>\n",
       "      <th>a2</th>\n",
       "      <th>a3</th>\n",
       "      <th>a4</th>\n",
       "      <th>a5</th>\n",
       "      <th>a6</th>\n",
       "    </tr>\n",
       "  </thead>\n",
       "  <tbody>\n",
       "    <tr>\n",
       "      <th></th>\n",
       "      <td>0.983067</td>\n",
       "      <td>-4.142168</td>\n",
       "      <td>7.193307</td>\n",
       "      <td>-6.658516</td>\n",
       "      <td>3.519626</td>\n",
       "      <td>-1.036111</td>\n",
       "      <td>0.142891</td>\n",
       "    </tr>\n",
       "  </tbody>\n",
       "</table>\n",
       "</div>"
      ],
      "text/plain": [
       "         a0        a1        a2        a3        a4        a5        a6\n",
       "   0.983067 -4.142168  7.193307 -6.658516  3.519626 -1.036111  0.142891"
      ]
     },
     "execution_count": 463,
     "metadata": {},
     "output_type": "execute_result"
    }
   ],
   "source": [
    "#возвращает коэффициенты алгебраического многочлена\n",
    "def alg_coef(x,f):\n",
    "    length = len(x)\n",
    "    \n",
    "#поиск столбца коэффициентов а[i] многочлена\n",
    "    array = np.zeros((length,length))\n",
    "    for i in range(0,length):\n",
    "        for j in range(0,length):\n",
    "            array[i][j] = x[i]**j\n",
    "    a = linalg.solve(array,f)\n",
    "    return a\n",
    "\n",
    "#таблица коэффициентов алгебраического многочлена(надо редактировать при смене размерности x,f)\n",
    "table1 = ps.DataFrame(data=alg_coef(x,f).reshape(1,length), index=np.arange(0,1), columns=np.arange(0,length))\n",
    "table1.columns = ['a0','a1','a2','a3','a4','a5','a6']\n",
    "table1.index = [' ']\n",
    "table1"
   ]
  },
  {
   "cell_type": "code",
   "execution_count": 425,
   "metadata": {},
   "outputs": [],
   "source": [
    "#возвращает значения алгебраического полинома в х0\n",
    "def alg_pol(x,f,x0):\n",
    "    length = len(x)\n",
    "    \n",
    "#матрица степеней х\n",
    "    xx = np.zeros(length)\n",
    "    for i in range(0,length):\n",
    "        xx[i] = x0**i\n",
    "\n",
    "    return alg_coef(x,f).dot(xx)"
   ]
  },
  {
   "cell_type": "code",
   "execution_count": 426,
   "metadata": {
    "scrolled": false
   },
   "outputs": [
    {
     "data": {
      "text/plain": [
       "0.013429999999999609"
      ]
     },
     "execution_count": 426,
     "metadata": {},
     "output_type": "execute_result"
    }
   ],
   "source": [
    "alg_pol(x,f,1.22173)"
   ]
  },
  {
   "cell_type": "markdown",
   "metadata": {},
   "source": [
    "Сплайн"
   ]
  },
  {
   "cell_type": "code",
   "execution_count": 428,
   "metadata": {},
   "outputs": [],
   "source": [
    "#подсчет производной алг. полинома в точке\n",
    "def derivative_alg_pol(x,f,x0):\n",
    "    length = len(x)\n",
    "\n",
    "#матрица степеней х производной\n",
    "    der = np.zeros(length)\n",
    "    for i in range(1,length):\n",
    "        der[i] = i * x0**(i-1)\n",
    "    \n",
    "    return alg_coef(x,f).dot(der)"
   ]
  },
  {
   "cell_type": "code",
   "execution_count": 450,
   "metadata": {},
   "outputs": [
    {
     "data": {
      "text/html": [
       "<div>\n",
       "<style scoped>\n",
       "    .dataframe tbody tr th:only-of-type {\n",
       "        vertical-align: middle;\n",
       "    }\n",
       "\n",
       "    .dataframe tbody tr th {\n",
       "        vertical-align: top;\n",
       "    }\n",
       "\n",
       "    .dataframe thead th {\n",
       "        text-align: right;\n",
       "    }\n",
       "</style>\n",
       "<table border=\"1\" class=\"dataframe\">\n",
       "  <thead>\n",
       "    <tr style=\"text-align: right;\">\n",
       "      <th></th>\n",
       "      <th>a0</th>\n",
       "      <th>a1</th>\n",
       "      <th>a2</th>\n",
       "      <th>a3</th>\n",
       "    </tr>\n",
       "  </thead>\n",
       "  <tbody>\n",
       "    <tr>\n",
       "      <th>S1</th>\n",
       "      <td>0.124560</td>\n",
       "      <td>-0.271844</td>\n",
       "      <td>0.153334</td>\n",
       "      <td>-0.004321</td>\n",
       "    </tr>\n",
       "    <tr>\n",
       "      <th>S2</th>\n",
       "      <td>-0.959060</td>\n",
       "      <td>2.386662</td>\n",
       "      <td>-2.020752</td>\n",
       "      <td>0.588323</td>\n",
       "    </tr>\n",
       "    <tr>\n",
       "      <th>S3</th>\n",
       "      <td>-4.906811</td>\n",
       "      <td>9.843294</td>\n",
       "      <td>-6.714942</td>\n",
       "      <td>1.573246</td>\n",
       "    </tr>\n",
       "    <tr>\n",
       "      <th>S4</th>\n",
       "      <td>-20.195637</td>\n",
       "      <td>33.534605</td>\n",
       "      <td>-18.951298</td>\n",
       "      <td>3.679752</td>\n",
       "    </tr>\n",
       "    <tr>\n",
       "      <th>S5</th>\n",
       "      <td>-67.216156</td>\n",
       "      <td>95.354669</td>\n",
       "      <td>-46.042996</td>\n",
       "      <td>7.637131</td>\n",
       "    </tr>\n",
       "    <tr>\n",
       "      <th>S6</th>\n",
       "      <td>-185.931363</td>\n",
       "      <td>230.854166</td>\n",
       "      <td>-97.594448</td>\n",
       "      <td>14.174695</td>\n",
       "    </tr>\n",
       "  </tbody>\n",
       "</table>\n",
       "</div>"
      ],
      "text/plain": [
       "            a0          a1         a2         a3\n",
       "S1    0.124560   -0.271844   0.153334  -0.004321\n",
       "S2   -0.959060    2.386662  -2.020752   0.588323\n",
       "S3   -4.906811    9.843294  -6.714942   1.573246\n",
       "S4  -20.195637   33.534605 -18.951298   3.679752\n",
       "S5  -67.216156   95.354669 -46.042996   7.637131\n",
       "S6 -185.931363  230.854166 -97.594448  14.174695"
      ]
     },
     "execution_count": 450,
     "metadata": {},
     "output_type": "execute_result"
    }
   ],
   "source": [
    "#возвращает коэффициенты i-го сплайна\n",
    "def spline_coef(i,x,f):\n",
    "    d = derivative_alg_pol(x,f,x[i])\n",
    "    dd = derivative_alg_pol(x,f,x[i+1])\n",
    "    \n",
    "    a_s = np.zeros(4)\n",
    "    a_s[0] = (-dd * x[i]**2 * x[i+1] * (x[i+1] - x[i]) + f[i+1] * x[i]**2 * (3*x[i+1] - x[i]))/(x[i+1] - x[i])**3  +  (-d * x[i+1]**2 * x[i] * (x[i+1] - x[i]) + f[i] * x[i+1]**2 * (x[i+1] - 3 * x[i]))/(x[i+1] - x[i])**3\n",
    "    a_s[1] = (dd * x[i] * (2 * x[i+1] + x[i]) * (x[i+1] - x[i]) - 6 * (f[i+1] - f[i]) * x[i] * x[i+1])/(x[i+1] - x[i])**3  +  (d * x[i+1] * (x[i+1] + 2 * x[i]) * (x[i+1] - x[i]))/(x[i+1] - x[i])**3\n",
    "    a_s[2] = (-dd * (2 *x[i] + x[i+1]) * (x[i+1] - x[i]) + 3 * (f[i+1] - f[i]) * (x[i] + x[i+1]))/(x[i+1] - x[i])**3  -  (d * (x[i] + 2 * x[i+1]) * (x[i+1] - x[i]))/(x[i+1] - x[i])**3\n",
    "    a_s[3] = (dd * (x[i+1] - x[i]) - 2 * (f[i+1] - f[i]) + d * (x[i+1] - x[i]))/(x[i+1] - x[i])**3\n",
    "    return a_s\n",
    "\n",
    "#таблица коэффициентов i-го сплайна\n",
    "spline_coef_tab = np.zeros((6,4))\n",
    "for i in range(0,len(f)-1):\n",
    "    spline_coef_tab[i] = spline_coef(i,x,f).reshape(1,4)\n",
    "table = ps.DataFrame(data=spline_coef_tab, index=np.arange(0,6), columns=np.arange(0,4))\n",
    "table.columns = ['a0','a1','a2','a3']\n",
    "table.index = ['S1','S2','S3','S4','S5','S6']\n",
    "table"
   ]
  },
  {
   "cell_type": "code",
   "execution_count": 451,
   "metadata": {},
   "outputs": [],
   "source": [
    "#значение i-го кубического сплайна S3i в х0\n",
    "def spline(i,x,f,x0):\n",
    "    \n",
    "#матрица степеней х сплайна 3 степени    \n",
    "    xx = np.zeros(4)\n",
    "    for j in range(0,4):\n",
    "        xx[j] = x0**j\n",
    "        \n",
    "    return spline_coef(i,x,f).dot(xx)"
   ]
  },
  {
   "cell_type": "code",
   "execution_count": 452,
   "metadata": {},
   "outputs": [],
   "source": [
    "#выдает значение функции в точке - интерполяция\n",
    "def spline_pol(x,f,x0):\n",
    "    length = len(x)\n",
    "    answer = 0\n",
    "    parametr = 0\n",
    "        \n",
    "    while parametr < length:\n",
    "        \n",
    "        if (x[parametr] <= x0) & (x0 <= x[parametr+1]) :\n",
    "            answer = spline(parametr,x,f,x0)\n",
    "            parametr = 11\n",
    "        else:\n",
    "            parametr += 1\n",
    "            \n",
    "    return answer"
   ]
  },
  {
   "cell_type": "code",
   "execution_count": null,
   "metadata": {},
   "outputs": [],
   "source": []
  },
  {
   "cell_type": "code",
   "execution_count": null,
   "metadata": {},
   "outputs": [],
   "source": []
  },
  {
   "cell_type": "code",
   "execution_count": 456,
   "metadata": {},
   "outputs": [],
   "source": [
    "def qwe(x0):\n",
    "    tab = np.array([alg_pol(x,f,x0),spline_pol(x,f,x0)])\n",
    "    table = ps.DataFrame(data=tab.reshape(1,2), index=np.arange(0,1), columns=np.arange(0,2))\n",
    "    table.columns = ['alg', 'spline']\n",
    "    table.index = [' ']\n",
    "    return table"
   ]
  },
  {
   "cell_type": "code",
   "execution_count": 457,
   "metadata": {
    "scrolled": true
   },
   "outputs": [
    {
     "data": {
      "text/html": [
       "<div>\n",
       "<style scoped>\n",
       "    .dataframe tbody tr th:only-of-type {\n",
       "        vertical-align: middle;\n",
       "    }\n",
       "\n",
       "    .dataframe tbody tr th {\n",
       "        vertical-align: top;\n",
       "    }\n",
       "\n",
       "    .dataframe thead th {\n",
       "        text-align: right;\n",
       "    }\n",
       "</style>\n",
       "<table border=\"1\" class=\"dataframe\">\n",
       "  <thead>\n",
       "    <tr style=\"text-align: right;\">\n",
       "      <th></th>\n",
       "      <th>alg</th>\n",
       "      <th>spline</th>\n",
       "    </tr>\n",
       "  </thead>\n",
       "  <tbody>\n",
       "    <tr>\n",
       "      <th></th>\n",
       "      <td>0.120859</td>\n",
       "      <td>0.120415</td>\n",
       "    </tr>\n",
       "  </tbody>\n",
       "</table>\n",
       "</div>"
      ],
      "text/plain": [
       "        alg    spline\n",
       "   0.120859  0.120415"
      ]
     },
     "execution_count": 457,
     "metadata": {},
     "output_type": "execute_result"
    }
   ],
   "source": [
    "qwe(1.65)"
   ]
  },
  {
   "cell_type": "code",
   "execution_count": 403,
   "metadata": {},
   "outputs": [
    {
     "data": {
      "text/html": [
       "<div>\n",
       "<style scoped>\n",
       "    .dataframe tbody tr th:only-of-type {\n",
       "        vertical-align: middle;\n",
       "    }\n",
       "\n",
       "    .dataframe tbody tr th {\n",
       "        vertical-align: top;\n",
       "    }\n",
       "\n",
       "    .dataframe thead th {\n",
       "        text-align: right;\n",
       "    }\n",
       "</style>\n",
       "<table border=\"1\" class=\"dataframe\">\n",
       "  <thead>\n",
       "    <tr style=\"text-align: right;\">\n",
       "      <th></th>\n",
       "      <th>0</th>\n",
       "      <th>1</th>\n",
       "      <th>2</th>\n",
       "      <th>3</th>\n",
       "      <th>4</th>\n",
       "      <th>5</th>\n",
       "      <th>6</th>\n",
       "    </tr>\n",
       "  </thead>\n",
       "  <tbody>\n",
       "    <tr>\n",
       "      <th>0</th>\n",
       "      <td>0.00123</td>\n",
       "      <td>0.01343</td>\n",
       "      <td>0.08411</td>\n",
       "      <td>0.37341</td>\n",
       "      <td>1.31146</td>\n",
       "      <td>3.88447</td>\n",
       "      <td>10.10742</td>\n",
       "    </tr>\n",
       "    <tr>\n",
       "      <th>1</th>\n",
       "      <td>0.00123</td>\n",
       "      <td>0.01343</td>\n",
       "      <td>0.08411</td>\n",
       "      <td>0.37341</td>\n",
       "      <td>1.31146</td>\n",
       "      <td>3.88447</td>\n",
       "      <td>10.10742</td>\n",
       "    </tr>\n",
       "  </tbody>\n",
       "</table>\n",
       "</div>"
      ],
      "text/plain": [
       "         0        1        2        3        4        5         6\n",
       "0  0.00123  0.01343  0.08411  0.37341  1.31146  3.88447  10.10742\n",
       "1  0.00123  0.01343  0.08411  0.37341  1.31146  3.88447  10.10742"
      ]
     },
     "execution_count": 403,
     "metadata": {},
     "output_type": "execute_result"
    }
   ],
   "source": [
    "qwer = np.zeros((2,7))\n",
    "for i in range(0,7):\n",
    "    qwer[0][i] = alg_poll(x,f,x[i])\n",
    "    qwer[1][i] = spline_interpolate(x,f,x[i])\n",
    "table = ps.DataFrame(data=qwer, index=np.arange(0,2), columns=np.arange(0,7))\n",
    "table"
   ]
  },
  {
   "cell_type": "code",
   "execution_count": 312,
   "metadata": {},
   "outputs": [
    {
     "data": {
      "text/plain": [
       "1.3114599999998404"
      ]
     },
     "execution_count": 312,
     "metadata": {},
     "output_type": "execute_result"
    }
   ],
   "source": [
    "def spline_interp0late(x,f,x0):\n",
    "    length = len(x)\n",
    "    S = np.zeros(length - 1)\n",
    "    answer = 0\n",
    "    v = 0\n",
    "    \n",
    "    for i in range(0,length - 1):\n",
    "        S[i] = spline(i,x,f,x0)\n",
    "        \n",
    "    while v < length:\n",
    "        if (x[v] <= x0) & (x0 < x[v+1]) :\n",
    "            w = S[v]\n",
    "            v=11\n",
    "        else:\n",
    "            v+=1\n",
    "    return w\n",
    "\n",
    "spline_interp0late(x,f,2.26893)"
   ]
  },
  {
   "cell_type": "code",
   "execution_count": null,
   "metadata": {},
   "outputs": [],
   "source": []
  }
 ],
 "metadata": {
  "kernelspec": {
   "display_name": "Python 3",
   "language": "python",
   "name": "python3"
  },
  "language_info": {
   "codemirror_mode": {
    "name": "ipython",
    "version": 3
   },
   "file_extension": ".py",
   "mimetype": "text/x-python",
   "name": "python",
   "nbconvert_exporter": "python",
   "pygments_lexer": "ipython3",
   "version": "3.8.3"
  }
 },
 "nbformat": 4,
 "nbformat_minor": 4
}
